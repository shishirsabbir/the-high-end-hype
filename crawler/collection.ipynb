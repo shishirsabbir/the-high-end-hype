{
 "cells": [
  {
   "cell_type": "code",
   "execution_count": 1,
   "id": "9b575299",
   "metadata": {},
   "outputs": [],
   "source": [
    "# imports\n",
    "from database.model import Shoe\n",
    "from database.database import SessionLocal\n",
    "from sqlalchemy import select"
   ]
  },
  {
   "cell_type": "code",
   "execution_count": null,
   "id": "204bb745",
   "metadata": {},
   "outputs": [],
   "source": [
    "# sample data\n",
    "single_shoe_data = Shoe(\n",
    "    title=\"Epic Stride Runner\",\n",
    "    brand=\"Zenith\",\n",
    "    colors=[\"blue\", \"white\", \"black\"],\n",
    "    sizes=[\"9\", \"9.5\", \"10\", \"10.5\"],\n",
    "    width=[\"D\"],\n",
    "    price=99.99,\n",
    "    images=[\n",
    "        \"https://example.com/images/runner1.jpg\",\n",
    "        \"https://example.com/images/runner2.jpg\"\n",
    "    ],\n",
    "    description=\"Engineered for performance and comfort. The Epic Stride features a lightweight mesh upper and responsive foam cushioning.\",\n",
    "    highlights=[\n",
    "        \"Breathable mesh upper\",\n",
    "        \"Lightweight construction\",\n",
    "        \"Responsive foam midsole\",\n",
    "        \"Durable rubber outsole\"\n",
    "    ],\n",
    "    type=\"men\",\n",
    "    category=\"running\",\n",
    "    sub_category=\"performance\",\n",
    ")"
   ]
  },
  {
   "cell_type": "code",
   "execution_count": null,
   "id": "89e159f6",
   "metadata": {},
   "outputs": [],
   "source": [
    "single_shoe_data"
   ]
  },
  {
   "cell_type": "code",
   "execution_count": null,
   "id": "e72a93ef",
   "metadata": {},
   "outputs": [],
   "source": [
    "# running sqlalchemy\n",
    "with SessionLocal() as db:\n",
    "    db.add(single_shoe_data)\n",
    "    db.commit()"
   ]
  },
  {
   "cell_type": "code",
   "execution_count": null,
   "id": "edd86c42",
   "metadata": {},
   "outputs": [],
   "source": [
    "single_shoe_data"
   ]
  },
  {
   "cell_type": "code",
   "execution_count": 3,
   "id": "3a1033c7",
   "metadata": {},
   "outputs": [
    {
     "name": "stdout",
     "output_type": "stream",
     "text": [
      "1\n",
      "Epic Stride Runner\n"
     ]
    }
   ],
   "source": [
    "with SessionLocal() as db:\n",
    "    men_shoes = db.scalars(select(Shoe).where(Shoe.type == 'men')).all()\n",
    "\n",
    "    print(len(men_shoes))\n",
    "\n",
    "    for shoe in men_shoes:\n",
    "        print(shoe.title)"
   ]
  }
 ],
 "metadata": {
  "kernelspec": {
   "display_name": ".venv",
   "language": "python",
   "name": "python3"
  },
  "language_info": {
   "codemirror_mode": {
    "name": "ipython",
    "version": 3
   },
   "file_extension": ".py",
   "mimetype": "text/x-python",
   "name": "python",
   "nbconvert_exporter": "python",
   "pygments_lexer": "ipython3",
   "version": "3.13.6"
  }
 },
 "nbformat": 4,
 "nbformat_minor": 5
}
