{
 "cells": [
  {
   "cell_type": "code",
   "execution_count": 1,
   "id": "a849ab41",
   "metadata": {},
   "outputs": [],
   "source": [
    "# imports\n",
    "import re\n",
    "import json\n",
    "import httpx\n",
    "import asyncio\n",
    "from bs4 import BeautifulSoup\n",
    "from urllib.parse import urlparse, urlunparse, urljoin"
   ]
  },
  {
   "cell_type": "code",
   "execution_count": 2,
   "id": "c441b642",
   "metadata": {},
   "outputs": [],
   "source": [
    "# getResponse for single url\n",
    "\n",
    "async def getResponse(target_url: str, client: httpx.AsyncClient) -> str | None:\n",
    "    try:\n",
    "        res = await client.get(target_url)\n",
    "\n",
    "        # raise exception\n",
    "        res.raise_for_status()\n",
    "        return res.text    \n",
    "    # except httpx.HTTPStatusError as e:\n",
    "    #     print(f\"HTTP Error: {e.response.status_code} for {e.request.url}\")\n",
    "    #     return None\n",
    "    # except httpx.RequestError as e:\n",
    "    #     print(f\"Request Error: An error occurred while requesting {e.request.url}\")\n",
    "    #     return None\n",
    "    except Exception as e:\n",
    "        print(e)\n",
    "        return None\n",
    "\n",
    "    # not applicable for jupyter notebook\n",
    "    # finally:\n",
    "    #     await client.aclose() "
   ]
  },
  {
   "cell_type": "code",
   "execution_count": 3,
   "id": "b17ed943",
   "metadata": {},
   "outputs": [],
   "source": [
    "# defining client\n",
    "\n",
    "base_url = 'https://www.shoecarnival.com'\n",
    "\n",
    "custom_headers = {\n",
    "    \"user-agent\": \"Mozilla/5.0 (Windows NT 10.0; Win64; x64) AppleWebKit/537.36 (KHTML, like Gecko) Chrome/139.0.0.0 Safari/537.36\"\n",
    "}\n",
    "\n",
    "# client = httpx.AsyncClient(http2=True, headers=custom_headers)"
   ]
  },
  {
   "cell_type": "code",
   "execution_count": 4,
   "id": "f62ab5ec",
   "metadata": {},
   "outputs": [],
   "source": [
    "# regex function to find price\n",
    "def convertPrice(price_str: str)-> float | None:\n",
    "    match = re.search(r\"[0-9]+.[0-9]{2}\", price_str)\n",
    "\n",
    "    if match:\n",
    "        price = match.group()\n",
    "        return float(price)\n",
    "    else:\n",
    "        return None"
   ]
  },
  {
   "cell_type": "code",
   "execution_count": 5,
   "id": "8c622d0e",
   "metadata": {},
   "outputs": [],
   "source": [
    "# shoe class\n",
    "class Shoe:\n",
    "    def __init__(self, url: str, brand: str = '', title: str = '', price: float = 0.0):\n",
    "        self.brand = brand\n",
    "        self.title = title\n",
    "        self.price = price\n",
    "        self.url = url\n",
    "\n",
    "    def getURL(self) -> str:\n",
    "        parsed_url = urlparse(self.url)\n",
    "\n",
    "        url_without_params = (\n",
    "            parsed_url.scheme,\n",
    "            parsed_url.netloc,\n",
    "            parsed_url.path,\n",
    "            '', # params\n",
    "            '', # query\n",
    "            '' # fragment\n",
    "        )\n",
    "\n",
    "        return urlunparse(url_without_params)\n",
    "\n",
    "\n",
    "    def __repr__(self):\n",
    "        return f\"Shoe(brand={self.brand}, title={self.title}, price={self.price})\""
   ]
  },
  {
   "cell_type": "markdown",
   "id": "f8df5035",
   "metadata": {},
   "source": [
    "**CSS Selectors**\n",
    "\n",
    "- info tag: ```div.css-1x7me35 > div[data-element=\"Box\"] div.chakra-card__body > a.chakra-link```\n",
    "- brand: ```div.chakra-stack div:first-child > h6```\n",
    "- title: ```div.chakra-stack p[id^=\"product-tile\"]```\n",
    "- price: ```div.chakra-stack > div.mobile__price > h6:first-child```\n",
    "- url: ```info_tag['href']```"
   ]
  },
  {
   "cell_type": "code",
   "execution_count": 6,
   "id": "82322bc2",
   "metadata": {},
   "outputs": [],
   "source": [
    "# dataParser (generator)\n",
    "def dataParser(html: str):\n",
    "    soup = BeautifulSoup(html, \"lxml\")\n",
    "\n",
    "    cards_info_tag_list = soup.select(\n",
    "        'div.css-1x7me35 > div[data-element=\"Box\"] div.chakra-card__body > a.chakra-link'\n",
    "    )\n",
    "\n",
    "    for card_info_tag in cards_info_tag_list:\n",
    "        brand_tag = card_info_tag.select_one(\"div.chakra-stack > div > h6\")\n",
    "        brand_name = brand_tag.text if brand_tag else \"\"\n",
    "\n",
    "        title_tag = card_info_tag.select_one('div.chakra-stack p[id^=\"product-tile\"]')\n",
    "        title = title_tag.string if title_tag else \"\"\n",
    "\n",
    "        price_tag = card_info_tag.select_one(\n",
    "            \"div.chakra-stack > div.mobile__price > h6\"\n",
    "        )\n",
    "        price = convertPrice(price_tag.get_text(strip=True)) if price_tag else 0.0\n",
    "\n",
    "        relative_url = str(card_info_tag.get(\"href\", \"\"))\n",
    "\n",
    "        url = urljoin(base_url, relative_url) if relative_url else None\n",
    "\n",
    "        if url:\n",
    "            yield Shoe(url, brand=brand_name, title=title, price=price) # type: ignore\n",
    "\n"
   ]
  },
  {
   "cell_type": "code",
   "execution_count": 7,
   "id": "a7d08d0d",
   "metadata": {},
   "outputs": [],
   "source": [
    "# event hook for success response\n",
    "async def logResponse(response: httpx.Response):\n",
    "    if 200 <= response.status_code <300:\n",
    "        print(f\"{response.status_code}✅   :::::   {response.url}\")"
   ]
  },
  {
   "cell_type": "code",
   "execution_count": 8,
   "id": "43612631",
   "metadata": {},
   "outputs": [],
   "source": [
    "all_shoes = []"
   ]
  },
  {
   "cell_type": "code",
   "execution_count": 9,
   "id": "74034757",
   "metadata": {},
   "outputs": [],
   "source": [
    "# create async task\n",
    "async def runSpider():\n",
    "    urls = [f\"https://www.shoecarnival.com/womens?page={page_num}\" for page_num in range(1, 43)]\n",
    "    limits = httpx.Limits(max_connections=100)\n",
    "\n",
    "    async with httpx.AsyncClient(http2=True, headers=custom_headers, timeout=30.0, limits=limits, event_hooks={'response': [logResponse]}) as client:\n",
    "        tasks = [asyncio.create_task(getResponse(url, client)) for url in urls]\n",
    "\n",
    "        responses:list[str | None] = await asyncio.gather(*tasks)\n",
    "\n",
    "        for html in responses:\n",
    "            if isinstance(html, str):\n",
    "                html_content = html\n",
    "\n",
    "                for shoe_object in dataParser(html_content):\n",
    "                    all_shoes.append(shoe_object)\n",
    "\n"
   ]
  },
  {
   "cell_type": "code",
   "execution_count": 10,
   "id": "80bf3358",
   "metadata": {},
   "outputs": [
    {
     "name": "stdout",
     "output_type": "stream",
     "text": [
      "200✅   :::::   https://www.shoecarnival.com/womens?page=3\n",
      "200✅   :::::   https://www.shoecarnival.com/womens?page=20\n",
      "200✅   :::::   https://www.shoecarnival.com/womens?page=42\n",
      "200✅   :::::   https://www.shoecarnival.com/womens?page=40\n",
      "200✅   :::::   https://www.shoecarnival.com/womens?page=25\n",
      "200✅   :::::   https://www.shoecarnival.com/womens?page=30\n",
      "200✅   :::::   https://www.shoecarnival.com/womens?page=35\n",
      "200✅   :::::   https://www.shoecarnival.com/womens?page=1\n",
      "200✅   :::::   https://www.shoecarnival.com/womens?page=14\n",
      "200✅   :::::   https://www.shoecarnival.com/womens?page=10\n",
      "200✅   :::::   https://www.shoecarnival.com/womens?page=11\n",
      "200✅   :::::   https://www.shoecarnival.com/womens?page=23\n",
      "200✅   :::::   https://www.shoecarnival.com/womens?page=32\n",
      "200✅   :::::   https://www.shoecarnival.com/womens?page=39\n",
      "200✅   :::::   https://www.shoecarnival.com/womens?page=19\n",
      "200✅   :::::   https://www.shoecarnival.com/womens?page=21\n",
      "200✅   :::::   https://www.shoecarnival.com/womens?page=18\n",
      "200✅   :::::   https://www.shoecarnival.com/womens?page=41\n",
      "200✅   :::::   https://www.shoecarnival.com/womens?page=15\n",
      "200✅   :::::   https://www.shoecarnival.com/womens?page=34\n",
      "200✅   :::::   https://www.shoecarnival.com/womens?page=8\n",
      "200✅   :::::   https://www.shoecarnival.com/womens?page=28\n",
      "200✅   :::::   https://www.shoecarnival.com/womens?page=24\n",
      "200✅   :::::   https://www.shoecarnival.com/womens?page=38\n",
      "200✅   :::::   https://www.shoecarnival.com/womens?page=9\n",
      "200✅   :::::   https://www.shoecarnival.com/womens?page=16\n",
      "200✅   :::::   https://www.shoecarnival.com/womens?page=33\n",
      "200✅   :::::   https://www.shoecarnival.com/womens?page=26\n",
      "200✅   :::::   https://www.shoecarnival.com/womens?page=31\n",
      "200✅   :::::   https://www.shoecarnival.com/womens?page=6\n",
      "200✅   :::::   https://www.shoecarnival.com/womens?page=2\n",
      "200✅   :::::   https://www.shoecarnival.com/womens?page=27\n",
      "200✅   :::::   https://www.shoecarnival.com/womens?page=12\n",
      "200✅   :::::   https://www.shoecarnival.com/womens?page=7\n",
      "200✅   :::::   https://www.shoecarnival.com/womens?page=37\n",
      "200✅   :::::   https://www.shoecarnival.com/womens?page=22\n",
      "200✅   :::::   https://www.shoecarnival.com/womens?page=13\n",
      "200✅   :::::   https://www.shoecarnival.com/womens?page=17\n",
      "200✅   :::::   https://www.shoecarnival.com/womens?page=5\n",
      "200✅   :::::   https://www.shoecarnival.com/womens?page=4\n",
      "200✅   :::::   https://www.shoecarnival.com/womens?page=36\n",
      "200✅   :::::   https://www.shoecarnival.com/womens?page=29\n"
     ]
    }
   ],
   "source": [
    "await runSpider()"
   ]
  },
  {
   "cell_type": "code",
   "execution_count": 11,
   "id": "a63f7bc4",
   "metadata": {},
   "outputs": [
    {
     "name": "stdout",
     "output_type": "stream",
     "text": [
      "1000\n"
     ]
    }
   ],
   "source": [
    "print(len(all_shoes))"
   ]
  },
  {
   "cell_type": "code",
   "execution_count": 12,
   "id": "af1d5e19",
   "metadata": {},
   "outputs": [
    {
     "data": {
      "text/plain": [
       "'Nike'"
      ]
     },
     "execution_count": 12,
     "metadata": {},
     "output_type": "execute_result"
    }
   ],
   "source": [
    "all_shoes[0].brand"
   ]
  },
  {
   "cell_type": "code",
   "execution_count": 13,
   "id": "76b767c5",
   "metadata": {},
   "outputs": [],
   "source": [
    "shoe_dict_list = []"
   ]
  },
  {
   "cell_type": "code",
   "execution_count": 14,
   "id": "6d53ba49",
   "metadata": {},
   "outputs": [],
   "source": [
    "for shoe in all_shoes:\n",
    "    clean_url = shoe.getURL()\n",
    "\n",
    "    shoe_dict = {\n",
    "        'brand': shoe.brand,\n",
    "        'title': shoe.title,\n",
    "        'price': shoe.price,\n",
    "        'url': clean_url\n",
    "    }\n",
    "\n",
    "    shoe_dict_list.append(shoe_dict)"
   ]
  },
  {
   "cell_type": "code",
   "execution_count": 15,
   "id": "788da87e",
   "metadata": {},
   "outputs": [
    {
     "name": "stdout",
     "output_type": "stream",
     "text": [
      "Extracted!\n"
     ]
    }
   ],
   "source": [
    "with open('./output/women_shoes.json', mode='w', encoding='utf-8') as json_file:\n",
    "    json_data = json.dumps(shoe_dict_list)\n",
    "    json_file.write(json_data)\n",
    "    print('Extracted!')"
   ]
  },
  {
   "cell_type": "code",
   "execution_count": null,
   "id": "787f28d8",
   "metadata": {},
   "outputs": [],
   "source": []
  }
 ],
 "metadata": {
  "kernelspec": {
   "display_name": ".venv",
   "language": "python",
   "name": "python3"
  },
  "language_info": {
   "codemirror_mode": {
    "name": "ipython",
    "version": 3
   },
   "file_extension": ".py",
   "mimetype": "text/x-python",
   "name": "python",
   "nbconvert_exporter": "python",
   "pygments_lexer": "ipython3",
   "version": "3.13.6"
  }
 },
 "nbformat": 4,
 "nbformat_minor": 5
}
